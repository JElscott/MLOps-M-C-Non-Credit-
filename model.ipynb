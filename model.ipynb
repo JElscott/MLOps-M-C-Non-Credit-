{
 "cells": [
  {
   "cell_type": "markdown",
   "id": "258699c5-93ab-48b5-9c2d-f0af833ede88",
   "metadata": {},
   "source": [
    "# Model Training with PyTorch"
   ]
  },
  {
   "cell_type": "code",
   "execution_count": 24,
   "id": "675508f6-f89c-4f63-a739-895246210463",
   "metadata": {},
   "outputs": [
    {
     "name": "stdout",
     "output_type": "stream",
     "text": [
      "Requirement already satisfied: wandb in /opt/conda/lib/python3.11/site-packages (0.18.3)\n",
      "Requirement already satisfied: click!=8.0.0,>=7.1 in /opt/conda/lib/python3.11/site-packages (from wandb) (8.1.7)\n",
      "Requirement already satisfied: docker-pycreds>=0.4.0 in /opt/conda/lib/python3.11/site-packages (from wandb) (0.4.0)\n",
      "Requirement already satisfied: gitpython!=3.1.29,>=1.0.0 in /opt/conda/lib/python3.11/site-packages (from wandb) (3.1.43)\n",
      "Requirement already satisfied: platformdirs in /opt/conda/lib/python3.11/site-packages (from wandb) (3.11.0)\n",
      "Requirement already satisfied: protobuf!=4.21.0,!=5.28.0,<6,>=3.19.0 in /opt/conda/lib/python3.11/site-packages (from wandb) (4.25.3)\n",
      "Requirement already satisfied: psutil>=5.0.0 in /opt/conda/lib/python3.11/site-packages (from wandb) (5.9.8)\n",
      "Requirement already satisfied: pyyaml in /opt/conda/lib/python3.11/site-packages (from wandb) (6.0.2)\n",
      "Requirement already satisfied: requests<3,>=2.0.0 in /opt/conda/lib/python3.11/site-packages (from wandb) (2.32.3)\n",
      "Requirement already satisfied: sentry-sdk>=1.0.0 in /opt/conda/lib/python3.11/site-packages (from wandb) (2.16.0)\n",
      "Requirement already satisfied: setproctitle in /opt/conda/lib/python3.11/site-packages (from wandb) (1.3.3)\n",
      "Requirement already satisfied: setuptools in /opt/conda/lib/python3.11/site-packages (from wandb) (72.1.0)\n",
      "Requirement already satisfied: six>=1.4.0 in /opt/conda/lib/python3.11/site-packages (from docker-pycreds>=0.4.0->wandb) (1.16.0)\n",
      "Requirement already satisfied: gitdb<5,>=4.0.1 in /opt/conda/lib/python3.11/site-packages (from gitpython!=3.1.29,>=1.0.0->wandb) (4.0.11)\n",
      "Requirement already satisfied: charset-normalizer<4,>=2 in /opt/conda/lib/python3.11/site-packages (from requests<3,>=2.0.0->wandb) (3.3.2)\n",
      "Requirement already satisfied: idna<4,>=2.5 in /opt/conda/lib/python3.11/site-packages (from requests<3,>=2.0.0->wandb) (3.7)\n",
      "Requirement already satisfied: urllib3<3,>=1.21.1 in /opt/conda/lib/python3.11/site-packages (from requests<3,>=2.0.0->wandb) (1.26.19)\n",
      "Requirement already satisfied: certifi>=2017.4.17 in /opt/conda/lib/python3.11/site-packages (from requests<3,>=2.0.0->wandb) (2024.7.4)\n",
      "Requirement already satisfied: smmap<6,>=3.0.1 in /opt/conda/lib/python3.11/site-packages (from gitdb<5,>=4.0.1->gitpython!=3.1.29,>=1.0.0->wandb) (5.0.0)\n"
     ]
    }
   ],
   "source": [
    "!pip install wandb"
   ]
  },
  {
   "cell_type": "code",
   "execution_count": 25,
   "id": "9f5525fb-4850-442a-9678-28eb4a4cc669",
   "metadata": {},
   "outputs": [],
   "source": [
    "import torch\n",
    "import torch.nn as nn\n",
    "import torch.optim as optim\n",
    "from torchvision import datasets, transforms\n",
    "import wandb\n",
    "from sklearn.metrics import precision_score, recall_score"
   ]
  },
  {
   "cell_type": "code",
   "execution_count": 26,
   "id": "dbbc1ae5-9ed0-4062-888a-98443f1ad6d4",
   "metadata": {},
   "outputs": [],
   "source": [
    "class LogisticRegression(nn.Module):\n",
    "    def __init__(self, input_dim, output_dim, hidden_layers, dropout_rate):\n",
    "        super(LogisticRegression, self).__init__()\n",
    "        layers = []\n",
    "        # Input layer\n",
    "        layers.append(nn.Linear(input_dim, hidden_layers[0]))\n",
    "        layers.append(nn.ReLU())\n",
    "        layers.append(nn.Dropout(dropout_rate))\n",
    "        \n",
    "        # Hidden layers\n",
    "        for i in range(1, len(hidden_layers)):\n",
    "            layers.append(nn.Linear(hidden_layers[i-1], hidden_layers[i]))\n",
    "            layers.append(nn.ReLU())\n",
    "            layers.append(nn.Dropout(dropout_rate))\n",
    "        \n",
    "        # Output layer\n",
    "        layers.append(nn.Linear(hidden_layers[-1], output_dim))\n",
    "        \n",
    "        self.model = nn.Sequential(*layers)\n",
    "\n",
    "    def forward(self, x):\n",
    "        x = x.view(x.size(0), -1)  # Flatten the input\n",
    "        return self.model(x)\n"
   ]
  },
  {
   "cell_type": "code",
   "execution_count": 27,
   "id": "8c5b0899-b625-4081-8211-e6935f46e5fd",
   "metadata": {},
   "outputs": [],
   "source": [
    "# Hyperparameters to experiment with\n",
    "config = {\n",
    "    \"learning_rate\": 0.005,\n",
    "    \"epochs\": 15,\n",
    "    \"batch_size\": 32,\n",
    "    \"hidden_layers\": [512, 256, 128],\n",
    "    \"dropout_rate\": 0.4\n",
    "}\n"
   ]
  },
  {
   "cell_type": "code",
   "execution_count": 34,
   "id": "d5709aac-9919-4974-ab8c-cae5da4c4ae9",
   "metadata": {},
   "outputs": [
    {
     "data": {
      "text/html": [
       "Finishing last run (ID:warlmzhq) before initializing another..."
      ],
      "text/plain": [
       "<IPython.core.display.HTML object>"
      ]
     },
     "metadata": {},
     "output_type": "display_data"
    },
    {
     "data": {
      "application/vnd.jupyter.widget-view+json": {
       "model_id": "",
       "version_major": 2,
       "version_minor": 0
      },
      "text/plain": [
       "VBox(children=(Label(value='0.010 MB of 0.010 MB uploaded\\r'), FloatProgress(value=1.0, max=1.0)))"
      ]
     },
     "metadata": {},
     "output_type": "display_data"
    },
    {
     "data": {
      "text/html": [
       " View run <strong style=\"color:#cdcd00\">upbeat-sunset-6</strong> at: <a href='https://wandb.ai/joelelscott-iowa-state-university/mnist-mlops/runs/warlmzhq' target=\"_blank\">https://wandb.ai/joelelscott-iowa-state-university/mnist-mlops/runs/warlmzhq</a><br/> View project at: <a href='https://wandb.ai/joelelscott-iowa-state-university/mnist-mlops' target=\"_blank\">https://wandb.ai/joelelscott-iowa-state-university/mnist-mlops</a><br/>Synced 5 W&B file(s), 0 media file(s), 0 artifact file(s) and 0 other file(s)"
      ],
      "text/plain": [
       "<IPython.core.display.HTML object>"
      ]
     },
     "metadata": {},
     "output_type": "display_data"
    },
    {
     "data": {
      "text/html": [
       "Find logs at: <code>./wandb/run-20241016_203640-warlmzhq/logs</code>"
      ],
      "text/plain": [
       "<IPython.core.display.HTML object>"
      ]
     },
     "metadata": {},
     "output_type": "display_data"
    },
    {
     "data": {
      "text/html": [
       "Successfully finished last run (ID:warlmzhq). Initializing new run:<br/>"
      ],
      "text/plain": [
       "<IPython.core.display.HTML object>"
      ]
     },
     "metadata": {},
     "output_type": "display_data"
    },
    {
     "data": {
      "text/html": [
       "Tracking run with wandb version 0.18.3"
      ],
      "text/plain": [
       "<IPython.core.display.HTML object>"
      ]
     },
     "metadata": {},
     "output_type": "display_data"
    },
    {
     "data": {
      "text/html": [
       "Run data is saved locally in <code>/home/sagemaker-user/joel-mlops-pipeline/wandb/run-20241016_203829-2q2ljjne</code>"
      ],
      "text/plain": [
       "<IPython.core.display.HTML object>"
      ]
     },
     "metadata": {},
     "output_type": "display_data"
    },
    {
     "data": {
      "text/html": [
       "Syncing run <strong><a href='https://wandb.ai/joelelscott-iowa-state-university/mnist-mlops/runs/2q2ljjne' target=\"_blank\">skilled-serenity-7</a></strong> to <a href='https://wandb.ai/joelelscott-iowa-state-university/mnist-mlops' target=\"_blank\">Weights & Biases</a> (<a href='https://wandb.me/run' target=\"_blank\">docs</a>)<br/>"
      ],
      "text/plain": [
       "<IPython.core.display.HTML object>"
      ]
     },
     "metadata": {},
     "output_type": "display_data"
    },
    {
     "data": {
      "text/html": [
       " View project at <a href='https://wandb.ai/joelelscott-iowa-state-university/mnist-mlops' target=\"_blank\">https://wandb.ai/joelelscott-iowa-state-university/mnist-mlops</a>"
      ],
      "text/plain": [
       "<IPython.core.display.HTML object>"
      ]
     },
     "metadata": {},
     "output_type": "display_data"
    },
    {
     "data": {
      "text/html": [
       " View run at <a href='https://wandb.ai/joelelscott-iowa-state-university/mnist-mlops/runs/2q2ljjne' target=\"_blank\">https://wandb.ai/joelelscott-iowa-state-university/mnist-mlops/runs/2q2ljjne</a>"
      ],
      "text/plain": [
       "<IPython.core.display.HTML object>"
      ]
     },
     "metadata": {},
     "output_type": "display_data"
    },
    {
     "data": {
      "text/html": [
       "<button onClick=\"this.nextSibling.style.display='block';this.style.display='none';\">Display W&B run</button><iframe src='https://wandb.ai/joelelscott-iowa-state-university/mnist-mlops/runs/2q2ljjne?jupyter=true' style='border:none;width:100%;height:420px;display:none;'></iframe>"
      ],
      "text/plain": [
       "<wandb.sdk.wandb_run.Run at 0x7fce9a58ed90>"
      ]
     },
     "execution_count": 34,
     "metadata": {},
     "output_type": "execute_result"
    }
   ],
   "source": [
    "# Initialize wandb\n",
    "wandb.init(project=\"mnist-mlops\", config=config)\n"
   ]
  },
  {
   "cell_type": "code",
   "execution_count": 35,
   "id": "1b8afd75-20b8-45b4-8cb3-200fcaa177d2",
   "metadata": {},
   "outputs": [],
   "source": [
    "# Load and preprocess data\n",
    "transform = transforms.Compose([transforms.ToTensor(), transforms.Normalize((0.1307,), (0.3081,))])\n",
    "train_dataset = datasets.MNIST(root='./data', train=True, download=True, transform=transform)\n",
    "test_dataset = datasets.MNIST(root='./data', train=False, download=True, transform=transform)\n",
    "\n",
    "train_loader = torch.utils.data.DataLoader(train_dataset, batch_size=config[\"batch_size\"], shuffle=True)\n",
    "test_loader = torch.utils.data.DataLoader(test_dataset, batch_size=config[\"batch_size\"], shuffle=False)\n",
    "\n",
    "# Initialize model, loss, and optimizer\n",
    "model = LogisticRegression(input_dim=28*28, output_dim=10, hidden_layers=config[\"hidden_layers\"], dropout_rate=config[\"dropout_rate\"])\n",
    "criterion = nn.CrossEntropyLoss()\n",
    "optimizer = optim.Adam(model.parameters(), lr=config[\"learning_rate\"])"
   ]
  },
  {
   "cell_type": "code",
   "execution_count": 36,
   "id": "91cc74a5-23a6-42ba-97a4-afe5981dcb21",
   "metadata": {},
   "outputs": [
    {
     "data": {
      "text/plain": [
       "[]"
      ]
     },
     "execution_count": 36,
     "metadata": {},
     "output_type": "execute_result"
    }
   ],
   "source": [
    "# Watch the model with wandb\n",
    "wandb.watch(model, log=\"all\")"
   ]
  },
  {
   "cell_type": "code",
   "execution_count": 37,
   "id": "7c3b632a-8c3b-4dd1-8b54-3cdeb6e2930a",
   "metadata": {},
   "outputs": [
    {
     "name": "stdout",
     "output_type": "stream",
     "text": [
      "Epoch [1/15], Loss: 0.7259\n",
      "Epoch [2/15], Loss: 0.6493\n",
      "Epoch [3/15], Loss: 0.6180\n",
      "Epoch [4/15], Loss: 0.6237\n",
      "Epoch [5/15], Loss: 0.6480\n",
      "Epoch [6/15], Loss: 0.6127\n",
      "Epoch [7/15], Loss: 0.6066\n",
      "Epoch [8/15], Loss: 0.6260\n",
      "Epoch [9/15], Loss: 0.6077\n",
      "Epoch [10/15], Loss: 0.6176\n",
      "Epoch [11/15], Loss: 0.6014\n",
      "Epoch [12/15], Loss: 0.5814\n",
      "Epoch [13/15], Loss: 0.6015\n",
      "Epoch [14/15], Loss: 0.5984\n",
      "Epoch [15/15], Loss: 0.5995\n"
     ]
    }
   ],
   "source": [
    "# Training loop\n",
    "for epoch in range(config[\"epochs\"]):\n",
    "    model.train()\n",
    "    running_loss = 0.0\n",
    "    for batch_idx, (data, target) in enumerate(train_loader):\n",
    "        optimizer.zero_grad()\n",
    "        output = model(data)\n",
    "        loss = criterion(output, target)\n",
    "        loss.backward()\n",
    "        optimizer.step()\n",
    "\n",
    "        running_loss += loss.item()\n",
    "\n",
    "        if batch_idx % 10 == 0:\n",
    "            # Log training loss, learning rate, and gradient norms\n",
    "            wandb.log({\n",
    "                \"training_loss\": running_loss / (batch_idx + 1),\n",
    "                \"learning_rate\": optimizer.param_groups[0]['lr'],\n",
    "                \"gradient_norm\": sum(p.grad.norm().item() for p in model.parameters() if p.grad is not None)\n",
    "            })\n",
    "\n",
    "    print(f'Epoch [{epoch + 1}/{config[\"epochs\"]}], Loss: {running_loss / len(train_loader):.4f}')\n",
    "\n"
   ]
  },
  {
   "cell_type": "code",
   "execution_count": 22,
   "id": "42e220f7-c183-4a39-8c44-f546b26a7ab4",
   "metadata": {},
   "outputs": [
    {
     "name": "stdout",
     "output_type": "stream",
     "text": [
      "Validation Accuracy: 90.60%\n"
     ]
    }
   ],
   "source": [
    "# Validation\n",
    "model.eval()\n",
    "correct = 0\n",
    "total = 0\n",
    "all_preds = []\n",
    "all_targets = []\n",
    "with torch.no_grad():\n",
    "    for data, target in test_loader:\n",
    "        output = model(data)\n",
    "        _, predicted = torch.max(output.data, 1)\n",
    "        total += target.size(0)\n",
    "        correct += (predicted == target).sum().item()\n",
    "\n",
    "        all_preds.extend(predicted.cpu().numpy())\n",
    "        all_targets.extend(target.cpu().numpy())\n",
    "\n",
    "accuracy = 100 * correct / total\n",
    "\n",
    "# Log validation accuracy, precision, and recall\n",
    "wandb.log({\n",
    "    \"validation_accuracy\": accuracy,\n",
    "    \"precision\": precision_score(all_targets, all_preds, average='weighted'),\n",
    "    \"recall\": recall_score(all_targets, all_preds, average='weighted')\n",
    "})\n",
    "\n",
    "print(f'Validation Accuracy: {accuracy:.2f}%')"
   ]
  },
  {
   "cell_type": "code",
   "execution_count": 39,
   "id": "35c65f3a-628c-4906-b1fc-38c2148d376b",
   "metadata": {},
   "outputs": [],
   "source": [
    "# Function to log predictions\n",
    "def log_predictions(model, data, target, num_samples=10):\n",
    "    model.eval()\n",
    "    with torch.no_grad():\n",
    "        output = model(data)\n",
    "        _, predicted = torch.max(output.data, 1)\n",
    "\n",
    "    # Log images with predictions vs actual labels to W&B\n",
    "    wandb.log({\n",
    "        \"predictions\": [wandb.Image(data[i], caption=f\"Predicted: {predicted[i].item()}, Actual: {target[i].item()}\")\n",
    "                        for i in range(num_samples)]\n",
    "    })"
   ]
  },
  {
   "cell_type": "code",
   "execution_count": 40,
   "id": "c225cb89-63b0-4892-b08d-316b605cc80b",
   "metadata": {},
   "outputs": [],
   "source": [
    "# Log sample predictions at the end of training\n",
    "log_predictions(model, next(iter(test_loader))[0][:10], next(iter(test_loader))[1][:10])"
   ]
  },
  {
   "cell_type": "code",
   "execution_count": 41,
   "id": "4f4c57cb-2a6c-4f11-aaf6-033f2af274e6",
   "metadata": {},
   "outputs": [
    {
     "data": {
      "application/vnd.jupyter.widget-view+json": {
       "model_id": "",
       "version_major": 2,
       "version_minor": 0
      },
      "text/plain": [
       "VBox(children=(Label(value='0.039 MB of 0.039 MB uploaded\\r'), FloatProgress(value=1.0, max=1.0)))"
      ]
     },
     "metadata": {},
     "output_type": "display_data"
    },
    {
     "data": {
      "text/html": [
       "<style>\n",
       "    table.wandb td:nth-child(1) { padding: 0 10px; text-align: left ; width: auto;} td:nth-child(2) {text-align: left ; width: 100%}\n",
       "    .wandb-row { display: flex; flex-direction: row; flex-wrap: wrap; justify-content: flex-start; width: 100% }\n",
       "    .wandb-col { display: flex; flex-direction: column; flex-basis: 100%; flex: 1; padding: 10px; }\n",
       "    </style>\n",
       "<div class=\"wandb-row\"><div class=\"wandb-col\"><h3>Run history:</h3><br/><table class=\"wandb\"><tr><td>gradient_norm</td><td>▃▂▂▆▃▂▃▃▃▂▂▁▂▃▆▃▂▁▃▄▂▄▂▂▃▂▂▂▂▂▂▂▃▂▂▁▁▃█▄</td></tr><tr><td>learning_rate</td><td>▁▁▁▁▁▁▁▁▁▁▁▁▁▁▁▁▁▁▁▁▁▁▁▁▁▁▁▁▁▁▁▁▁▁▁▁▁▁▁▁</td></tr><tr><td>training_loss</td><td>█▃▂▃▂▂▂▂▂▂▁▂▂▂▂▂▃▂▂▂▂▂▁▁▂▁▁▂▁▂▂▂▁▁▁▁▁▂▂▁</td></tr></table><br/></div><div class=\"wandb-col\"><h3>Run summary:</h3><br/><table class=\"wandb\"><tr><td>gradient_norm</td><td>1.73047</td></tr><tr><td>learning_rate</td><td>0.005</td></tr><tr><td>training_loss</td><td>0.59935</td></tr></table><br/></div></div>"
      ],
      "text/plain": [
       "<IPython.core.display.HTML object>"
      ]
     },
     "metadata": {},
     "output_type": "display_data"
    },
    {
     "data": {
      "text/html": [
       " View run <strong style=\"color:#cdcd00\">skilled-serenity-7</strong> at: <a href='https://wandb.ai/joelelscott-iowa-state-university/mnist-mlops/runs/2q2ljjne' target=\"_blank\">https://wandb.ai/joelelscott-iowa-state-university/mnist-mlops/runs/2q2ljjne</a><br/> View project at: <a href='https://wandb.ai/joelelscott-iowa-state-university/mnist-mlops' target=\"_blank\">https://wandb.ai/joelelscott-iowa-state-university/mnist-mlops</a><br/>Synced 5 W&B file(s), 0 media file(s), 0 artifact file(s) and 10 other file(s)"
      ],
      "text/plain": [
       "<IPython.core.display.HTML object>"
      ]
     },
     "metadata": {},
     "output_type": "display_data"
    },
    {
     "data": {
      "text/html": [
       "Find logs at: <code>./wandb/run-20241016_203829-2q2ljjne/logs</code>"
      ],
      "text/plain": [
       "<IPython.core.display.HTML object>"
      ]
     },
     "metadata": {},
     "output_type": "display_data"
    }
   ],
   "source": [
    "wandb.finish()"
   ]
  },
  {
   "cell_type": "code",
   "execution_count": 42,
   "id": "6c5d6a09-56d3-4419-9895-a8333d699910",
   "metadata": {},
   "outputs": [],
   "source": [
    "# Save the trained model\n",
    "torch.save(model.state_dict(), \"model.pth\")"
   ]
  },
  {
   "cell_type": "code",
   "execution_count": null,
   "id": "270eb377-13fe-4be6-87be-c4fd6c7c52ee",
   "metadata": {},
   "outputs": [],
   "source": []
  }
 ],
 "metadata": {
  "kernelspec": {
   "display_name": "Python 3 (ipykernel)",
   "language": "python",
   "name": "python3"
  },
  "language_info": {
   "codemirror_mode": {
    "name": "ipython",
    "version": 3
   },
   "file_extension": ".py",
   "mimetype": "text/x-python",
   "name": "python",
   "nbconvert_exporter": "python",
   "pygments_lexer": "ipython3",
   "version": "3.11.9"
  }
 },
 "nbformat": 4,
 "nbformat_minor": 5
}
